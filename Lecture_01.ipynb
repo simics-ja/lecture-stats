{
  "nbformat": 4,
  "nbformat_minor": 0,
  "metadata": {
    "colab": {
      "name": "Lecture-01.ipynb",
      "version": "0.3.2",
      "provenance": [],
      "collapsed_sections": [],
      "include_colab_link": true
    },
    "kernelspec": {
      "name": "python3",
      "display_name": "Python 3"
    }
  },
  "cells": [
    {
      "cell_type": "markdown",
      "metadata": {
        "id": "view-in-github",
        "colab_type": "text"
      },
      "source": [
        "<a href=\"https://colab.research.google.com/github/simics-ja/lecture-stats/blob/master/Lecture_01.ipynb\" target=\"_parent\"><img src=\"https://colab.research.google.com/assets/colab-badge.svg\" alt=\"Open In Colab\"/></a>"
      ]
    },
    {
      "metadata": {
        "id": "0jd1ZYG0r9t0",
        "colab_type": "text"
      },
      "cell_type": "markdown",
      "source": [
        "[スライド](https://docs.google.com/presentation/d/1YkkoNyDULe1KW9Vkh9zLyQIutzUgIeGegGbziBRF7nM/edit?usp=sharing)"
      ]
    },
    {
      "metadata": {
        "id": "y1Tlc4KmmDwu",
        "colab_type": "text"
      },
      "cell_type": "markdown",
      "source": [
        "# 演習1 正規分布を描いてみよう\n",
        "指定した平均と標準偏差の正規分布に従う母集団から，指定した標本数だけのデータを取得してヒストグラム（度数分布）を描画します．"
      ]
    },
    {
      "metadata": {
        "id": "OOVJAwPGWCvR",
        "colab_type": "code",
        "outputId": "ba382e3a-7fe9-4c75-829c-595237a1c5ed",
        "cellView": "form",
        "colab": {
          "base_uri": "https://localhost:8080/",
          "height": 410
        }
      },
      "cell_type": "code",
      "source": [
        "import numpy as np\n",
        "import pandas as pd\n",
        "import matplotlib.pyplot as plt\n",
        "\n",
        "#@markdown ### 母集団のパラメータ\n",
        "平均 = 100 #@param {type: \"number\"}\n",
        "標準偏差 = 10 #@param {type: \"number\"}\n",
        "#@markdown ### 母集団から取得する標本数\n",
        "標本数 = 20 #@param {type: \"number\"}\n",
        "#@markdown ### ヒストグラムの細かさ\n",
        "階級数 = 50 #@param {type: \"number\"}\n",
        "values = np.random.normal(平均, 標準偏差, 標本数)\n",
        "plt.hist(values, bins=階級数)\n",
        "pd.DataFrame(pd.Series(values.ravel()).describe()).transpose()\n",
        "\n",
        "#@markdown Command/Control + Enterでも実行可能"
      ],
      "execution_count": 29,
      "outputs": [
        {
          "output_type": "execute_result",
          "data": {
            "text/html": [
              "<div>\n",
              "<style scoped>\n",
              "    .dataframe tbody tr th:only-of-type {\n",
              "        vertical-align: middle;\n",
              "    }\n",
              "\n",
              "    .dataframe tbody tr th {\n",
              "        vertical-align: top;\n",
              "    }\n",
              "\n",
              "    .dataframe thead th {\n",
              "        text-align: right;\n",
              "    }\n",
              "</style>\n",
              "<table border=\"1\" class=\"dataframe\">\n",
              "  <thead>\n",
              "    <tr style=\"text-align: right;\">\n",
              "      <th></th>\n",
              "      <th>count</th>\n",
              "      <th>mean</th>\n",
              "      <th>std</th>\n",
              "      <th>min</th>\n",
              "      <th>25%</th>\n",
              "      <th>50%</th>\n",
              "      <th>75%</th>\n",
              "      <th>max</th>\n",
              "    </tr>\n",
              "  </thead>\n",
              "  <tbody>\n",
              "    <tr>\n",
              "      <th>0</th>\n",
              "      <td>20.0</td>\n",
              "      <td>103.92778</td>\n",
              "      <td>10.293948</td>\n",
              "      <td>83.964476</td>\n",
              "      <td>97.377636</td>\n",
              "      <td>104.247641</td>\n",
              "      <td>111.670704</td>\n",
              "      <td>127.157869</td>\n",
              "    </tr>\n",
              "  </tbody>\n",
              "</table>\n",
              "</div>"
            ],
            "text/plain": [
              "   count       mean        std        min        25%         50%         75%  \\\n",
              "0   20.0  103.92778  10.293948  83.964476  97.377636  104.247641  111.670704   \n",
              "\n",
              "          max  \n",
              "0  127.157869  "
            ]
          },
          "metadata": {
            "tags": []
          },
          "execution_count": 29
        },
        {
          "output_type": "display_data",
          "data": {
            "image/png": "[encoded data removed]",
            "text/plain": [
              "<Figure size 576x396 with 1 Axes>"
            ]
          },
          "metadata": {
            "tags": []
          }
        }
      ]
    },
    {
      "metadata": {
        "id": "5H6ZBWBiJkPJ",
        "colab_type": "code",
        "outputId": "171176e1-058b-40e1-cb49-a3a50fa9580a",
        "colab": {
          "base_uri": "https://localhost:8080/",
          "height": 102
        }
      },
      "cell_type": "code",
      "source": [
        "# valuesの中身が見たいとき\n",
        "values #print(values)でもOK"
      ],
      "execution_count": 3,
      "outputs": [
        {
          "output_type": "execute_result",
          "data": {
            "text/plain": [
              "array([ 92.26934689,  99.45467267, 106.28612865, 113.4480991 ,\n",
              "       103.75231324, 101.33850614,  96.81659147, 114.3994236 ,\n",
              "       108.7413112 ,  85.12197674, 103.57796335,  85.95178479,\n",
              "        92.44170584, 117.18257933,  99.61982235,  85.78088454,\n",
              "       111.23455696, 103.95424137, 104.54778465, 101.27769615])"
            ]
          },
          "metadata": {
            "tags": []
          },
          "execution_count": 3
        }
      ]
    },
    {
      "metadata": {
        "id": "swazyp95Bz53",
        "colab_type": "text"
      },
      "cell_type": "markdown",
      "source": [
        "**こんな感じで数値を入力&実行しながら進めていきます．**\n"
      ]
    },
    {
      "metadata": {
        "id": "WRwIeJy4KsPK",
        "colab_type": "text"
      },
      "cell_type": "markdown",
      "source": [
        "# 演習2 t検定のイメージを掴もう\n",
        "t検定は2群の平均値の有意差を調べるときによく使われるパラメトリック検定法です．\n",
        "\n",
        "グループA，Bの平均・分散や標本数を変えるとp値はどうなるかためしてみましょう．"
      ]
    },
    {
      "metadata": {
        "id": "NhwOtekxb9-L",
        "colab_type": "code",
        "colab": {
          "base_uri": "https://localhost:8080/",
          "height": 381
        },
        "cellView": "form",
        "outputId": "22341b19-13c6-4e85-d53d-031a1ef9b2ce"
      },
      "cell_type": "code",
      "source": [
        "import numpy as np\n",
        "import pandas as pd\n",
        "import matplotlib.pyplot as plt\n",
        "import scipy as sp\n",
        "\n",
        "#@markdown ## グループA\n",
        "#@markdown ### 正規分布の設定\n",
        "平均A = 50 #@param {type: \"number\"}\n",
        "標準偏差A = 50 #@param {type: \"number\"}\n",
        "#@markdown ### 被験者は何人？\n",
        "標本数A = 10 #@param {type: \"number\"}\n",
        "\n",
        "values1 = np.random.normal(平均A, 標準偏差A, 標本数A)\n",
        "\n",
        "#@markdown ## グループB\n",
        "#@markdown ### 正規分布の設定\n",
        "平均B = 60 #@param {type: \"number\"}\n",
        "標準偏差B = 50 #@param {type: \"number\"}\n",
        "#@markdown ### 被験者は何人？\n",
        "標本数B = 10 #@param {type: \"number\"}\n",
        "\n",
        "values2 = np.random.normal(平均B, 標準偏差B, 標本数B)\n",
        "\n",
        "plt.hist(values1, bins=20, alpha=0.8)\n",
        "plt.hist(values2, bins=20, alpha=0.8)\n",
        "t, p = sp.stats.ttest_ind(values1, values2)\n",
        "print(\"p=\" + str(p))\n",
        "if p < 0.05:\n",
        "  print(\"有意差あり\")\n",
        "else:\n",
        "  print(\"有意差なし\")"
      ],
      "execution_count": 151,
      "outputs": [
        {
          "output_type": "stream",
          "text": [
            "p=0.6177756084528824\n",
            "有意差なし\n"
          ],
          "name": "stdout"
        },
        {
          "output_type": "display_data",
          "data": {
            "image/png": "[encoded data removed]",
            "text/plain": [
              "<Figure size 576x396 with 1 Axes>"
            ]
          },
          "metadata": {
            "tags": []
          }
        }
      ]
    },
    {
      "metadata": {
        "id": "VSKIBDbQMAwa",
        "colab_type": "text"
      },
      "cell_type": "markdown",
      "source": [
        "# 演習3 標本数とp値の関係を調べよう\n",
        "\n",
        "\n"
      ]
    },
    {
      "metadata": {
        "id": "OrktrU0UMcNU",
        "colab_type": "code",
        "colab": {
          "base_uri": "https://localhost:8080/",
          "height": 272
        },
        "cellView": "form",
        "outputId": "e5dbf79d-5434-4362-bb11-ca7336b6f1cc"
      },
      "cell_type": "code",
      "source": [
        "import numpy as np\n",
        "import pandas as pd\n",
        "import matplotlib.pyplot as plt\n",
        "import scipy as sp\n",
        "\n",
        "ps = []\n",
        "\n",
        "#@markdown ## グループAの設定\n",
        "平均値A = 170 #@param {type: \"number\"}\n",
        "標準偏差A = 5 #@param {type: \"number\"}\n",
        "\n",
        "#@markdown ## グループBの設定\n",
        "平均値B = 169 #@param {type: \"number\"}\n",
        "標準偏差B = 5 #@param {type: \"number\"}\n",
        "\n",
        "\n",
        "for i in range(15):\n",
        "  values1 = np.random.normal(平均値A, 標準偏差A, 2**(i+1))\n",
        "  values2 = np.random.normal(平均値B, 標準偏差B, 2**(i+1))\n",
        "  t, p = sp.stats.ttest_ind(values1, values2)\n",
        "  ps.append(\"標本数が\"+str(2**(i+1)) +\"のとき，p=\"+str(p))\n",
        "\n",
        "ps"
      ],
      "execution_count": 156,
      "outputs": [
        {
          "output_type": "execute_result",
          "data": {
            "text/plain": [
              "['標本数が2のとき，p=0.7767757914084946',\n",
              " '標本数が4のとき，p=0.5068739951848094',\n",
              " '標本数が8のとき，p=0.6999302722321081',\n",
              " '標本数が16のとき，p=0.3235234048515053',\n",
              " '標本数が32のとき，p=0.10823391911604528',\n",
              " '標本数が64のとき，p=0.19891813420118823',\n",
              " '標本数が128のとき，p=0.0984412707228852',\n",
              " '標本数が256のとき，p=0.002833931322129292',\n",
              " '標本数が512のとき，p=0.0006150559507922487',\n",
              " '標本数が1024のとき，p=2.170490966439669e-06',\n",
              " '標本数が2048のとき，p=6.466151631006667e-12',\n",
              " '標本数が4096のとき，p=1.135095841920149e-16',\n",
              " '標本数が8192のとき，p=1.9286468638839875e-37',\n",
              " '標本数が16384のとき，p=7.52004060323118e-77',\n",
              " '標本数が32768のとき，p=6.61872699678535e-143']"
            ]
          },
          "metadata": {
            "tags": []
          },
          "execution_count": 156
        }
      ]
    },
    {
      "metadata": {
        "id": "KXxUzatcMRyQ",
        "colab_type": "text"
      },
      "cell_type": "markdown",
      "source": [
        "# 演習4 同じ分布のデータ間でt検定してみよう"
      ]
    },
    {
      "metadata": {
        "id": "0-pkazj9l-UC",
        "colab_type": "code",
        "colab": {
          "base_uri": "https://localhost:8080/",
          "height": 364
        },
        "cellView": "both",
        "outputId": "c572afb5-8d8a-4421-9f30-1c321b69ab54"
      },
      "cell_type": "code",
      "source": [
        "import numpy as np\n",
        "import pandas as pd\n",
        "import matplotlib.pyplot as plt\n",
        "import scipy as sp\n",
        "\n",
        "#@markdown ## 分布の設定\n",
        "\n",
        "平均値 = 100 #@param {type: \"number\"}\n",
        "標準偏差 = 10 #@param {type: \"number\"}\n",
        "標本数 = 10 #@param {type: \"number\"}\n",
        "\n",
        "#@markdown ## 同じ分布の母集団から無作為抽出した2つの群を作り，t検定にかける．\n",
        "サンプリング回数 = 1000 #@param {type: \"number\"}\n",
        "有意水準 = 0.05 #@param {type: \"number\"}\n",
        "\n",
        "# 母集団のヒストグラム\n",
        "plt.hist(np.random.normal(平均値, 標準偏差, 100000), bins=20, alpha=0.8)\n",
        "plt.hist(np.random.normal(平均値, 標準偏差, 100000), bins=20, alpha=0.8)\n",
        "\n",
        "sig_count = 0;\n",
        "\n",
        "for i in range(サンプリング回数):\n",
        "  values1 = np.random.normal(平均値, 標準偏差, 標本数)\n",
        "  values2 = np.random.normal(平均値, 標準偏差, 標本数)\n",
        "  t, p = sp.stats.ttest_ind(values1, values2)\n",
        "  if p < 有意水準:\n",
        "    sig_count += 1\n",
        "\n",
        "print(\"「有意差あり」になった回数は\" + str(サンプリング回数) + \"回サンプリングしたうち\" + str(sig_count) + \"回です．\")"
      ],
      "execution_count": 146,
      "outputs": [
        {
          "output_type": "stream",
          "text": [
            "「有意差あり」になった回数は1000回サンプリングしたうち44回です．\n"
          ],
          "name": "stdout"
        },
        {
          "output_type": "display_data",
          "data": {
            "image/png": "[encoded data removed]",
            "text/plain": [
              "<Figure size 576x396 with 1 Axes>"
            ]
          },
          "metadata": {
            "tags": []
          }
        }
      ]
    },
    {
      "metadata": {
        "id": "Vgt6Zh0ONXlW",
        "colab_type": "text"
      },
      "cell_type": "markdown",
      "source": [
        "# 演習5 パワーアナリシスをやってみよう"
      ]
    },
    {
      "metadata": {
        "id": "jZ7NZ0JYgZzH",
        "colab_type": "code",
        "colab": {
          "base_uri": "https://localhost:8080/",
          "height": 34
        },
        "cellView": "both",
        "outputId": "657cd486-d52f-4d94-9c15-8c95c6c919c6"
      },
      "cell_type": "code",
      "source": [
        "from statsmodels.stats.power import tt_ind_solve_power\n",
        "#@markdown ## t検定が満たしてほしい基準\n",
        "# 平均値の差\n",
        "平均値の差 = 0.5 #@param {type: \"number\"}\n",
        "# 標準偏差\n",
        "標準偏差    = 1 #@param {type: \"number\"}\n",
        "# 有意水準\n",
        "有意水準   = 0.05 #@param {type: \"number\"}\n",
        "# 検出力\n",
        "検出力= 0.8 #@param {type: \"number\"}\n",
        "# 効果量 (平均値の差 / 標準偏差 )\n",
        "効果量 = 平均値の差 / 標準偏差\n",
        "# 両側検定\n",
        "alternative='two-sided'\n",
        "n = tt_ind_solve_power(effect_size=効果量,  alpha=有意水準, power=検出力, alternative=alternative)\n",
        "print(\"必要な被験者数は\"+str(n)+\"人\")"
      ],
      "execution_count": 160,
      "outputs": [
        {
          "output_type": "stream",
          "text": [
            "必要な被験者数は63.765611775409525人\n"
          ],
          "name": "stdout"
        }
      ]
    },
    {
      "metadata": {
        "id": "Tf_0vopDvVxJ",
        "colab_type": "text"
      },
      "cell_type": "markdown",
      "source": [
        "# 演習6 求めた標本数で必要な検出力を満たせるか"
      ]
    },
    {
      "metadata": {
        "id": "xaCCxz00Nbna",
        "colab_type": "code",
        "colab": {
          "base_uri": "https://localhost:8080/",
          "height": 34
        },
        "outputId": "0cd6c154-853b-49da-d59a-8be02ef25551"
      },
      "cell_type": "code",
      "source": [
        "# 平均値の差\n",
        "平均値の差 = 0.5 #@param {type: \"number\"}\n",
        "# 標準偏差\n",
        "標準偏差    = 1 #@param {type: \"number\"}\n",
        "# 有意水準\n",
        "有意水準   = 0.05 #@param {type: \"number\"}\n",
        "# 標本数\n",
        "標本数   = 64 #@param {type: \"number\"}\n",
        "\n",
        "サンプリング回数 = 1000 #@param {type: \"number\"}\n",
        "\n",
        "no_sig_count = 0\n",
        "\n",
        "for i in range(サンプリング回数):\n",
        "  values1 = np.random.normal(0, 標準偏差, 標本数)\n",
        "  values2 = np.random.normal(平均値の差, 標準偏差, 標本数)\n",
        "  t, p = sp.stats.ttest_ind(values1, values2)\n",
        "  if p > 0.05:\n",
        "    no_sig_count +=1\n",
        "\n",
        "print(\"「有意差なし」になった回数は\" + str(サンプリング回数) + \"回サンプリングしたうち\" + str(no_sig_count) + \"回です．\")"
      ],
      "execution_count": 163,
      "outputs": [
        {
          "output_type": "stream",
          "text": [
            "「有意差なし」になった回数は1000回サンプリングしたうち206回です．\n"
          ],
          "name": "stdout"
        }
      ]
    },
    {
      "metadata": {
        "id": "QeTkhfUpuxG0",
        "colab_type": "code",
        "colab": {}
      },
      "cell_type": "code",
      "source": [
        ""
      ],
      "execution_count": 0,
      "outputs": []
    }
  ]
}